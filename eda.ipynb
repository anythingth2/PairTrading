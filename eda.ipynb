{
 "cells": [
  {
   "cell_type": "code",
   "execution_count": 10,
   "metadata": {},
   "outputs": [],
   "source": [
    "import pandas as pd\n",
    "import matplotlib.pyplot as plt\n",
    "import seaborn as sns"
   ]
  },
  {
   "cell_type": "code",
   "execution_count": 2,
   "metadata": {},
   "outputs": [],
   "source": [
    "naive_cointegration_df = pd.read_csv('analysis/cointegration_naive_price.csv')\n",
    "cointegration_df = pd.read_csv('analysis/cointegration.csv')\n"
   ]
  },
  {
   "cell_type": "code",
   "execution_count": 3,
   "metadata": {},
   "outputs": [
    {
     "data": {
      "text/html": [
       "<div>\n",
       "<style scoped>\n",
       "    .dataframe tbody tr th:only-of-type {\n",
       "        vertical-align: middle;\n",
       "    }\n",
       "\n",
       "    .dataframe tbody tr th {\n",
       "        vertical-align: top;\n",
       "    }\n",
       "\n",
       "    .dataframe thead th {\n",
       "        text-align: right;\n",
       "    }\n",
       "</style>\n",
       "<table border=\"1\" class=\"dataframe\">\n",
       "  <thead>\n",
       "    <tr style=\"text-align: right;\">\n",
       "      <th></th>\n",
       "      <th>left_symbol</th>\n",
       "      <th>right_symbol</th>\n",
       "      <th>cointegration</th>\n",
       "      <th>cointegration_test_period</th>\n",
       "    </tr>\n",
       "  </thead>\n",
       "  <tbody>\n",
       "    <tr>\n",
       "      <th>0</th>\n",
       "      <td>MMM</td>\n",
       "      <td>AOS</td>\n",
       "      <td>0.348890</td>\n",
       "      <td>6248</td>\n",
       "    </tr>\n",
       "    <tr>\n",
       "      <th>1</th>\n",
       "      <td>MMM</td>\n",
       "      <td>ABT</td>\n",
       "      <td>0.209638</td>\n",
       "      <td>6248</td>\n",
       "    </tr>\n",
       "    <tr>\n",
       "      <th>2</th>\n",
       "      <td>MMM</td>\n",
       "      <td>ABBV</td>\n",
       "      <td>0.284442</td>\n",
       "      <td>2475</td>\n",
       "    </tr>\n",
       "    <tr>\n",
       "      <th>3</th>\n",
       "      <td>MMM</td>\n",
       "      <td>ABMD</td>\n",
       "      <td>0.510596</td>\n",
       "      <td>6248</td>\n",
       "    </tr>\n",
       "    <tr>\n",
       "      <th>4</th>\n",
       "      <td>MMM</td>\n",
       "      <td>ACN</td>\n",
       "      <td>0.051761</td>\n",
       "      <td>5355</td>\n",
       "    </tr>\n",
       "    <tr>\n",
       "      <th>...</th>\n",
       "      <td>...</td>\n",
       "      <td>...</td>\n",
       "      <td>...</td>\n",
       "      <td>...</td>\n",
       "    </tr>\n",
       "    <tr>\n",
       "      <th>254536</th>\n",
       "      <td>RPM</td>\n",
       "      <td>UK</td>\n",
       "      <td>0.841159</td>\n",
       "      <td>750</td>\n",
       "    </tr>\n",
       "    <tr>\n",
       "      <th>254537</th>\n",
       "      <td>RPM</td>\n",
       "      <td>TX</td>\n",
       "      <td>0.022744</td>\n",
       "      <td>4216</td>\n",
       "    </tr>\n",
       "    <tr>\n",
       "      <th>254538</th>\n",
       "      <td>OSI</td>\n",
       "      <td>UK</td>\n",
       "      <td>0.343134</td>\n",
       "      <td>334</td>\n",
       "    </tr>\n",
       "    <tr>\n",
       "      <th>254539</th>\n",
       "      <td>OSI</td>\n",
       "      <td>TX</td>\n",
       "      <td>0.863456</td>\n",
       "      <td>334</td>\n",
       "    </tr>\n",
       "    <tr>\n",
       "      <th>254540</th>\n",
       "      <td>UK</td>\n",
       "      <td>TX</td>\n",
       "      <td>0.288643</td>\n",
       "      <td>750</td>\n",
       "    </tr>\n",
       "  </tbody>\n",
       "</table>\n",
       "<p>254541 rows × 4 columns</p>\n",
       "</div>"
      ],
      "text/plain": [
       "       left_symbol right_symbol  cointegration  cointegration_test_period\n",
       "0              MMM          AOS       0.348890                       6248\n",
       "1              MMM          ABT       0.209638                       6248\n",
       "2              MMM         ABBV       0.284442                       2475\n",
       "3              MMM         ABMD       0.510596                       6248\n",
       "4              MMM          ACN       0.051761                       5355\n",
       "...            ...          ...            ...                        ...\n",
       "254536         RPM           UK       0.841159                        750\n",
       "254537         RPM           TX       0.022744                       4216\n",
       "254538         OSI           UK       0.343134                        334\n",
       "254539         OSI           TX       0.863456                        334\n",
       "254540          UK           TX       0.288643                        750\n",
       "\n",
       "[254541 rows x 4 columns]"
      ]
     },
     "execution_count": 3,
     "metadata": {},
     "output_type": "execute_result"
    }
   ],
   "source": [
    "naive_cointegration_df"
   ]
  },
  {
   "cell_type": "code",
   "execution_count": 4,
   "metadata": {},
   "outputs": [
    {
     "data": {
      "text/html": [
       "<div>\n",
       "<style scoped>\n",
       "    .dataframe tbody tr th:only-of-type {\n",
       "        vertical-align: middle;\n",
       "    }\n",
       "\n",
       "    .dataframe tbody tr th {\n",
       "        vertical-align: top;\n",
       "    }\n",
       "\n",
       "    .dataframe thead th {\n",
       "        text-align: right;\n",
       "    }\n",
       "</style>\n",
       "<table border=\"1\" class=\"dataframe\">\n",
       "  <thead>\n",
       "    <tr style=\"text-align: right;\">\n",
       "      <th></th>\n",
       "      <th>left_symbol</th>\n",
       "      <th>right_symbol</th>\n",
       "      <th>cointegration</th>\n",
       "      <th>cointegration_test_period</th>\n",
       "    </tr>\n",
       "  </thead>\n",
       "  <tbody>\n",
       "    <tr>\n",
       "      <th>0</th>\n",
       "      <td>MMM</td>\n",
       "      <td>AOS</td>\n",
       "      <td>0.875809</td>\n",
       "      <td>6248</td>\n",
       "    </tr>\n",
       "    <tr>\n",
       "      <th>1</th>\n",
       "      <td>MMM</td>\n",
       "      <td>ABT</td>\n",
       "      <td>0.419699</td>\n",
       "      <td>6248</td>\n",
       "    </tr>\n",
       "    <tr>\n",
       "      <th>2</th>\n",
       "      <td>MMM</td>\n",
       "      <td>ABBV</td>\n",
       "      <td>0.203599</td>\n",
       "      <td>2475</td>\n",
       "    </tr>\n",
       "    <tr>\n",
       "      <th>3</th>\n",
       "      <td>MMM</td>\n",
       "      <td>ABMD</td>\n",
       "      <td>0.653847</td>\n",
       "      <td>6248</td>\n",
       "    </tr>\n",
       "    <tr>\n",
       "      <th>4</th>\n",
       "      <td>MMM</td>\n",
       "      <td>ACN</td>\n",
       "      <td>0.230506</td>\n",
       "      <td>5355</td>\n",
       "    </tr>\n",
       "    <tr>\n",
       "      <th>...</th>\n",
       "      <td>...</td>\n",
       "      <td>...</td>\n",
       "      <td>...</td>\n",
       "      <td>...</td>\n",
       "    </tr>\n",
       "    <tr>\n",
       "      <th>252400</th>\n",
       "      <td>RPM</td>\n",
       "      <td>UK</td>\n",
       "      <td>0.768290</td>\n",
       "      <td>750</td>\n",
       "    </tr>\n",
       "    <tr>\n",
       "      <th>252401</th>\n",
       "      <td>RPM</td>\n",
       "      <td>TX</td>\n",
       "      <td>0.038530</td>\n",
       "      <td>4216</td>\n",
       "    </tr>\n",
       "    <tr>\n",
       "      <th>252402</th>\n",
       "      <td>OSI</td>\n",
       "      <td>UK</td>\n",
       "      <td>0.629697</td>\n",
       "      <td>334</td>\n",
       "    </tr>\n",
       "    <tr>\n",
       "      <th>252403</th>\n",
       "      <td>OSI</td>\n",
       "      <td>TX</td>\n",
       "      <td>0.893230</td>\n",
       "      <td>334</td>\n",
       "    </tr>\n",
       "    <tr>\n",
       "      <th>252404</th>\n",
       "      <td>UK</td>\n",
       "      <td>TX</td>\n",
       "      <td>0.009289</td>\n",
       "      <td>750</td>\n",
       "    </tr>\n",
       "  </tbody>\n",
       "</table>\n",
       "<p>252405 rows × 4 columns</p>\n",
       "</div>"
      ],
      "text/plain": [
       "       left_symbol right_symbol  cointegration  cointegration_test_period\n",
       "0              MMM          AOS       0.875809                       6248\n",
       "1              MMM          ABT       0.419699                       6248\n",
       "2              MMM         ABBV       0.203599                       2475\n",
       "3              MMM         ABMD       0.653847                       6248\n",
       "4              MMM          ACN       0.230506                       5355\n",
       "...            ...          ...            ...                        ...\n",
       "252400         RPM           UK       0.768290                        750\n",
       "252401         RPM           TX       0.038530                       4216\n",
       "252402         OSI           UK       0.629697                        334\n",
       "252403         OSI           TX       0.893230                        334\n",
       "252404          UK           TX       0.009289                        750\n",
       "\n",
       "[252405 rows x 4 columns]"
      ]
     },
     "execution_count": 4,
     "metadata": {},
     "output_type": "execute_result"
    }
   ],
   "source": [
    "cointegration_df"
   ]
  },
  {
   "cell_type": "code",
   "execution_count": 7,
   "metadata": {},
   "outputs": [
    {
     "data": {
      "text/html": [
       "<div>\n",
       "<style scoped>\n",
       "    .dataframe tbody tr th:only-of-type {\n",
       "        vertical-align: middle;\n",
       "    }\n",
       "\n",
       "    .dataframe tbody tr th {\n",
       "        vertical-align: top;\n",
       "    }\n",
       "\n",
       "    .dataframe thead th {\n",
       "        text-align: right;\n",
       "    }\n",
       "</style>\n",
       "<table border=\"1\" class=\"dataframe\">\n",
       "  <thead>\n",
       "    <tr style=\"text-align: right;\">\n",
       "      <th></th>\n",
       "      <th>naive_cointegration</th>\n",
       "      <th>coinegration</th>\n",
       "    </tr>\n",
       "  </thead>\n",
       "  <tbody>\n",
       "    <tr>\n",
       "      <th>0</th>\n",
       "      <td>0.348890</td>\n",
       "      <td>0.875809</td>\n",
       "    </tr>\n",
       "    <tr>\n",
       "      <th>1</th>\n",
       "      <td>0.209638</td>\n",
       "      <td>0.419699</td>\n",
       "    </tr>\n",
       "    <tr>\n",
       "      <th>2</th>\n",
       "      <td>0.284442</td>\n",
       "      <td>0.203599</td>\n",
       "    </tr>\n",
       "    <tr>\n",
       "      <th>3</th>\n",
       "      <td>0.510596</td>\n",
       "      <td>0.653847</td>\n",
       "    </tr>\n",
       "    <tr>\n",
       "      <th>4</th>\n",
       "      <td>0.051761</td>\n",
       "      <td>0.230506</td>\n",
       "    </tr>\n",
       "    <tr>\n",
       "      <th>...</th>\n",
       "      <td>...</td>\n",
       "      <td>...</td>\n",
       "    </tr>\n",
       "    <tr>\n",
       "      <th>254536</th>\n",
       "      <td>0.841159</td>\n",
       "      <td>NaN</td>\n",
       "    </tr>\n",
       "    <tr>\n",
       "      <th>254537</th>\n",
       "      <td>0.022744</td>\n",
       "      <td>NaN</td>\n",
       "    </tr>\n",
       "    <tr>\n",
       "      <th>254538</th>\n",
       "      <td>0.343134</td>\n",
       "      <td>NaN</td>\n",
       "    </tr>\n",
       "    <tr>\n",
       "      <th>254539</th>\n",
       "      <td>0.863456</td>\n",
       "      <td>NaN</td>\n",
       "    </tr>\n",
       "    <tr>\n",
       "      <th>254540</th>\n",
       "      <td>0.288643</td>\n",
       "      <td>NaN</td>\n",
       "    </tr>\n",
       "  </tbody>\n",
       "</table>\n",
       "<p>254541 rows × 2 columns</p>\n",
       "</div>"
      ],
      "text/plain": [
       "        naive_cointegration  coinegration\n",
       "0                  0.348890      0.875809\n",
       "1                  0.209638      0.419699\n",
       "2                  0.284442      0.203599\n",
       "3                  0.510596      0.653847\n",
       "4                  0.051761      0.230506\n",
       "...                     ...           ...\n",
       "254536             0.841159           NaN\n",
       "254537             0.022744           NaN\n",
       "254538             0.343134           NaN\n",
       "254539             0.863456           NaN\n",
       "254540             0.288643           NaN\n",
       "\n",
       "[254541 rows x 2 columns]"
      ]
     },
     "execution_count": 7,
     "metadata": {},
     "output_type": "execute_result"
    }
   ],
   "source": [
    "df = pd.DataFrame({\n",
    "    'naive_cointegration': naive_cointegration_df['cointegration'],\n",
    "    'coinegration': cointegration_df['cointegration']\n",
    "})\n",
    "df"
   ]
  },
  {
   "cell_type": "code",
   "execution_count": 9,
   "metadata": {},
   "outputs": [
    {
     "data": {
      "text/plain": [
       "<matplotlib.axes._subplots.AxesSubplot at 0x125201070>"
      ]
     },
     "execution_count": 9,
     "metadata": {},
     "output_type": "execute_result"
    },
    {
     "data": {
      "image/png": "[encoded data removed]",
      "text/plain": [
       "<Figure size 432x288 with 1 Axes>"
      ]
     },
     "metadata": {
      "needs_background": "light"
     },
     "output_type": "display_data"
    }
   ],
   "source": [
    "df.plot.density(x='naive_cointegration', y='coinegration')"
   ]
  },
  {
   "cell_type": "code",
   "execution_count": 11,
   "metadata": {},
   "outputs": [
    {
     "data": {
      "text/plain": [
       "<matplotlib.axes._subplots.AxesSubplot at 0x133ca85e0>"
      ]
     },
     "execution_count": 11,
     "metadata": {},
     "output_type": "execute_result"
    },
    {
     "data": {
      "image/png": "[encoded data removed]",
      "text/plain": [
       "<Figure size 432x288 with 1 Axes>"
      ]
     },
     "metadata": {
      "needs_background": "light"
     },
     "output_type": "display_data"
    }
   ],
   "source": [
    "sns.kdeplot(data=df, x='naive_cointegration', y='coinegration')"
   ]
  },
  {
   "cell_type": "code",
   "execution_count": null,
   "metadata": {},
   "outputs": [],
   "source": []
  },
  {
   "cell_type": "code",
   "execution_count": null,
   "metadata": {},
   "outputs": [],
   "source": []
  },
  {
   "cell_type": "code",
   "execution_count": null,
   "metadata": {},
   "outputs": [],
   "source": []
  },
  {
   "cell_type": "code",
   "execution_count": null,
   "metadata": {},
   "outputs": [],
   "source": []
  }
 ],
 "metadata": {
  "kernelspec": {
   "display_name": "Python 3",
   "language": "python",
   "name": "python3"
  },
  "language_info": {
   "codemirror_mode": {
    "name": "ipython",
    "version": 3
   },
   "file_extension": ".py",
   "mimetype": "text/x-python",
   "name": "python",
   "nbconvert_exporter": "python",
   "pygments_lexer": "ipython3",
   "version": "3.9.5 (default, May  4 2021, 03:36:27) \n[Clang 12.0.0 (clang-1200.0.32.29)]"
  },
  "orig_nbformat": 4,
  "vscode": {
   "interpreter": {
    "hash": "aee8b7b246df8f9039afb4144a1f6fd8d2ca17a180786b69acc140d282b71a49"
   }
  }
 },
 "nbformat": 4,
 "nbformat_minor": 2
}
